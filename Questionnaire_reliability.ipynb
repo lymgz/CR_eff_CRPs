{
 "cells": [
  {
   "cell_type": "code",
   "execution_count": 1,
   "metadata": {},
   "outputs": [
    {
     "name": "stdout",
     "output_type": "stream",
     "text": [
      "next\n"
     ]
    }
   ],
   "source": [
    "import pandas as pd\n",
    "import numpy as np\n",
    "from scipy.stats import pearsonr\n",
    "\n",
    "# Load the data\n",
    "data = pd.read_excel(\"questionnaire_answer_107.xlsx\")\n",
    "reliability_data = data.iloc[:, 1:]\n",
    "\n",
    "def compute_cronbach_alpha(data):\n",
    "    \"\"\"\n",
    "    Compute Cronbach's Alpha for a dataset.\n",
    "    \"\"\"\n",
    "    num_items = data.shape[1]\n",
    "    item_variances = data.var(axis=0, ddof=1)\n",
    "    total_variances = data.sum(axis=1).var(ddof=1)\n",
    "    return num_items / (num_items - 1.) * (1 - item_variances.sum() / total_variances)\n",
    "\n",
    "def split_half_reliability(data):\n",
    "    \"\"\"\n",
    "    Compute the split-half reliability for a dataset.\n",
    "    This function computes the average split-half reliability over multiple random splits.\n",
    "    \"\"\"\n",
    "    num_splits = 500  # Reduced for performance\n",
    "    reliabilities = []\n",
    "    num_items = data.shape[1]\n",
    "    for _ in range(num_splits):\n",
    "        permutation = np.random.permutation(num_items)\n",
    "        half_1 = data.iloc[:, permutation[:num_items // 2]]\n",
    "        half_2 = data.iloc[:, permutation[num_items // 2:]]\n",
    "        total_1 = half_1.sum(axis=1)\n",
    "        total_2 = half_2.sum(axis=1)\n",
    "        r, _ = pearsonr(total_1, total_2)\n",
    "        reliability = 2 * r / (1 + r)\n",
    "        reliabilities.append(reliability)\n",
    "    return np.mean(reliabilities)\n",
    "\n",
    "def compute_mcdonald_omega(data):\n",
    "    \"\"\"\n",
    "    Compute McDonald's Omega for a dataset.\n",
    "    Currently, this is an approximation using Cronbach's Alpha.\n",
    "    \"\"\"\n",
    "    return compute_cronbach_alpha(data)\n",
    "\n",
    "def bootstrap_confidence_interval(data, stat_function, alpha=0.05, n_iterations=500):\n",
    "    \"\"\"\n",
    "    Compute the confidence interval of a statistic using bootstrap.\n",
    "    \"\"\"\n",
    "    estimates = []\n",
    "    for _ in range(n_iterations):\n",
    "        sample = data.sample(n=data.shape[0], replace=True, axis=0)\n",
    "        estimates.append(stat_function(sample))\n",
    "    lower = np.percentile(estimates, 100 * (alpha / 2.))\n",
    "    upper = np.percentile(estimates, 100 * (1 - alpha / 2.))\n",
    "    return lower, upper\n",
    "\n",
    "# Compute the statistics and 95% CIs\n",
    "cronbach_alpha_mean = compute_cronbach_alpha(reliability_data)\n",
    "cronbach_alpha_lower, cronbach_alpha_upper = bootstrap_confidence_interval(reliability_data, compute_cronbach_alpha)\n",
    "\n",
    "split_half_mean = split_half_reliability(reliability_data)\n",
    "split_half_lower, split_half_upper = bootstrap_confidence_interval(reliability_data, split_half_reliability)\n",
    "\n",
    "# Using bootstrap for McDonald's ω\n",
    "mcdonald_omega_mean = compute_mcdonald_omega(reliability_data)\n",
    "mcdonald_omega_lower, mcdonald_omega_upper = bootstrap_confidence_interval(reliability_data, compute_mcdonald_omega)\n",
    "\n",
    "print('next')\n",
    "# # Construct the table\n",
    "# results = {\n",
    "#     'Estimate': ['Posterior mean', '95% CI lower bound', '95% CI upper bound'],\n",
    "#     'McDonald’s ω': [mcdonald_omega_mean, mcdonald_omega_lower, mcdonald_omega_upper],\n",
    "#     'Cronbach’s α': [cronbach_alpha_mean, cronbach_alpha_lower, cronbach_alpha_upper],\n",
    "#     'Guttman’s λ2': [split_half_mean, split_half_lower, split_half_upper]\n",
    "# }\n",
    "\n",
    "# table = pd.DataFrame(results)\n",
    "# print(table)\n"
   ]
  },
  {
   "cell_type": "code",
   "execution_count": 2,
   "metadata": {},
   "outputs": [
    {
     "name": "stdout",
     "output_type": "stream",
     "text": [
      "Omega Total: 0.9824127237685539\n",
      "Omega Hierarchical: 0.2585516918443122\n",
      "Omega Hierarchical Asymptotic: 0.26318031677409776\n",
      "Cronbach’s Alpha: 0.9694273027610495\n",
      "Guttman's Lambda 1: 0.9603672345109461\n",
      "Guttman's Lambda 2: 0.9759194641010885\n"
     ]
    }
   ],
   "source": [
    "import pandas as pd\n",
    "from reliabilipy import reliability_analysis\n",
    "\n",
    "# Load the data\n",
    "data = pd.read_excel(\"questionnaire_answer_107.xlsx\")\n",
    "reliability_data = data.iloc[:, 1:]\n",
    "\n",
    "# Compute the correlation matrix of the data\n",
    "correlations_matrix = reliability_data.corr()\n",
    "\n",
    "# Create the reliability report using reliabilipy\n",
    "reliability_report = reliability_analysis(correlations_matrix=correlations_matrix)\n",
    "reliability_report.fit()\n",
    "\n",
    "# Extract the reliability measures\n",
    "omega_total = reliability_report.omega_total\n",
    "omega_hierarchical = reliability_report.omega_hierarchical\n",
    "omega_hierarchical_asymptotic = reliability_report.omega_hierarchical_asymptotic\n",
    "alpha_cronbach = reliability_report.alpha_cronbach\n",
    "lambda1 = reliability_report.lambda1\n",
    "lambda2 = reliability_report.lambda2\n",
    "\n",
    "# Print the results\n",
    "print(f\"Omega Total: {omega_total}\")\n",
    "print(f\"Omega Hierarchical: {omega_hierarchical}\")\n",
    "print(f\"Omega Hierarchical Asymptotic: {omega_hierarchical_asymptotic}\")\n",
    "print(f\"Cronbach’s Alpha: {alpha_cronbach}\")\n",
    "print(f\"Guttman's Lambda 1: {lambda1}\")\n",
    "print(f\"Guttman's Lambda 2: {lambda2}\")"
   ]
  },
  {
   "cell_type": "code",
   "execution_count": 3,
   "metadata": {},
   "outputs": [
    {
     "name": "stdout",
     "output_type": "stream",
     "text": [
      "             Estimate  McDonald’s ω  Cronbach’s α  Guttman’s λ2\n",
      "0      Posterior mean      0.982413      0.969427      0.975919\n",
      "1  95% CI lower bound      0.945810      0.950115      0.953569\n",
      "2  95% CI upper bound      0.981701      0.981059      0.986213\n"
     ]
    }
   ],
   "source": [
    "# Construct the table\n",
    "results_2 = {\n",
    "    'Estimate': ['Posterior mean', '95% CI lower bound', '95% CI upper bound'],\n",
    "    'McDonald’s ω': [omega_total, mcdonald_omega_lower, mcdonald_omega_upper],\n",
    "    'Cronbach’s α': [alpha_cronbach, cronbach_alpha_lower, cronbach_alpha_upper],\n",
    "    'Guttman’s λ2': [lambda2, split_half_lower, split_half_upper]\n",
    "}\n",
    "\n",
    "table = pd.DataFrame(results_2)\n",
    "print(table)"
   ]
  }
 ],
 "metadata": {
  "kernelspec": {
   "display_name": "lymai3.9",
   "language": "python",
   "name": "python3"
  },
  "language_info": {
   "codemirror_mode": {
    "name": "ipython",
    "version": 3
   },
   "file_extension": ".py",
   "mimetype": "text/x-python",
   "name": "python",
   "nbconvert_exporter": "python",
   "pygments_lexer": "ipython3",
   "version": "3.9.18"
  }
 },
 "nbformat": 4,
 "nbformat_minor": 2
}
